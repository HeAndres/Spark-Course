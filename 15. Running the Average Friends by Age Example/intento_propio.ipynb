{
 "cells": [
  {
   "cell_type": "code",
   "execution_count": 1,
   "metadata": {},
   "outputs": [
    {
     "name": "stderr",
     "output_type": "stream",
     "text": [
      "23/10/09 10:22:20 WARN Utils: Your hostname, AHE resolves to a loopback address: 127.0.1.1; using 192.168.121.8 instead (on interface wlo1)\n",
      "23/10/09 10:22:20 WARN Utils: Set SPARK_LOCAL_IP if you need to bind to another address\n",
      "Setting default log level to \"WARN\".\n",
      "To adjust logging level use sc.setLogLevel(newLevel). For SparkR, use setLogLevel(newLevel).\n",
      "23/10/09 10:22:21 WARN NativeCodeLoader: Unable to load native-hadoop library for your platform... using builtin-java classes where applicable\n"
     ]
    }
   ],
   "source": [
    "from pyspark.sql import SparkSession\n",
    "\n",
    "spark = SparkSession.builder \\\n",
    "    .appName('AverageFriendsByAge') \\\n",
    "    .master('local') \\\n",
    "    .getOrCreate()\n",
    "    \n",
    "# sc = spark.sparkcontext"
   ]
  },
  {
   "cell_type": "code",
   "execution_count": 2,
   "metadata": {},
   "outputs": [
    {
     "data": {
      "text/plain": [
       "['intento_propio.py',\n",
       " 'fakefriends.csv',\n",
       " 'intento_propio.ipynb',\n",
       " 'friends-by-age.py']"
      ]
     },
     "execution_count": 2,
     "metadata": {},
     "output_type": "execute_result"
    }
   ],
   "source": [
    "import os\n",
    "os.listdir()"
   ]
  },
  {
   "cell_type": "code",
   "execution_count": 3,
   "metadata": {},
   "outputs": [
    {
     "name": "stderr",
     "output_type": "stream",
     "text": [
      "                                                                                \r"
     ]
    },
    {
     "data": {
      "text/plain": [
       "[['0', 'Will', '33', '385'],\n",
       " ['1', 'Jean-Luc', '26', '2'],\n",
       " ['2', 'Hugh', '55', '221'],\n",
       " ['3', 'Deanna', '40', '465'],\n",
       " ['4', 'Quark', '68', '21']]"
      ]
     },
     "execution_count": 3,
     "metadata": {},
     "output_type": "execute_result"
    }
   ],
   "source": [
    "sc = spark.sparkContext\n",
    "rdd = sc.textFile('fakefriends.csv')\n",
    "rdd = rdd.map(lambda x: x.split(','))\n",
    "rdd.take(5)"
   ]
  },
  {
   "cell_type": "code",
   "execution_count": 4,
   "metadata": {},
   "outputs": [],
   "source": [
    "AgeAndFriends = rdd.map(lambda x: (int(x[2]), int(x[3])))"
   ]
  },
  {
   "cell_type": "code",
   "execution_count": 5,
   "metadata": {},
   "outputs": [],
   "source": [
    "totalsByAge = AgeAndFriends.mapValues(lambda x: (x,1)).reduceByKey(lambda x, y: (x[0] + x[1], y[0] + y[1]))"
   ]
  },
  {
   "cell_type": "code",
   "execution_count": 6,
   "metadata": {},
   "outputs": [
    {
     "data": {
      "text/plain": [
       "[(33, 8.527980535279806),\n",
       " (26, 47.61176470588235),\n",
       " (55, 13.172794117647058),\n",
       " (40, 18.3710407239819),\n",
       " (68, 5.382075471698113)]"
      ]
     },
     "execution_count": 6,
     "metadata": {},
     "output_type": "execute_result"
    }
   ],
   "source": [
    "meanFriendsByAge = totalsByAge.mapValues(lambda x: x[0] / x[1])\n",
    "meanFriendsByAge.take(5)"
   ]
  },
  {
   "cell_type": "code",
   "execution_count": 7,
   "metadata": {},
   "outputs": [
    {
     "data": {
      "text/plain": [
       "[(33, (3505, 411)),\n",
       " (26, (4047, 85)),\n",
       " (55, (3583, 272)),\n",
       " (40, (4060, 221)),\n",
       " (68, (2282, 424))]"
      ]
     },
     "execution_count": 7,
     "metadata": {},
     "output_type": "execute_result"
    }
   ],
   "source": [
    "totalsByAge.take(5)"
   ]
  },
  {
   "cell_type": "code",
   "execution_count": 8,
   "metadata": {},
   "outputs": [
    {
     "name": "stderr",
     "output_type": "stream",
     "text": [
      "23/10/09 10:22:26 WARN SparkSession: Using an existing Spark session; only runtime SQL configurations will take effect.\n"
     ]
    }
   ],
   "source": [
    "from pyspark.sql import SparkSession\n",
    "\n",
    "# Create SparkSession\n",
    "spark = SparkSession.builder.appName('FriendsApp').master('local').getOrCreate()\n",
    "\n",
    "# Create sparkContext to access spark low-level RDD api\n",
    "sc = spark.sparkContext"
   ]
  },
  {
   "cell_type": "code",
   "execution_count": 9,
   "metadata": {},
   "outputs": [
    {
     "data": {
      "text/plain": [
       "[('33', 385), ('26', 2), ('55', 221), ('40', 465), ('68', 21)]"
      ]
     },
     "execution_count": 9,
     "metadata": {},
     "output_type": "execute_result"
    }
   ],
   "source": [
    "lines = sc.textFile('fakefriends.csv')\n",
    "rdd_AgeAsKey = (\n",
    "    lines\n",
    "    .map(lambda x: x.split(',')) # Process lines to separate into columns\n",
    "    .map(lambda x: x[2:]) # Remove index\n",
    "    .map(lambda x: (x[0], int(x[1]))) # Let age as string and # of friends as int\n",
    ")\n",
    "rdd_AgeAsKey.take(5)"
   ]
  },
  {
   "cell_type": "code",
   "execution_count": 10,
   "metadata": {},
   "outputs": [
    {
     "data": {
      "text/plain": [
       "[('33', (385, 1)),\n",
       " ('26', (2, 1)),\n",
       " ('55', (221, 1)),\n",
       " ('40', (465, 1)),\n",
       " ('68', (21, 1)),\n",
       " ('59', (318, 1)),\n",
       " ('37', (220, 1)),\n",
       " ('54', (307, 1)),\n",
       " ('38', (380, 1)),\n",
       " ('27', (181, 1))]"
      ]
     },
     "execution_count": 10,
     "metadata": {},
     "output_type": "execute_result"
    }
   ],
   "source": [
    "# Add a row counter in every row. Equal to 1. Will be summed later\n",
    "rdd_AgeAsKey = rdd_AgeAsKey.mapValues(lambda x: (x, 1))\n",
    "rdd_AgeAsKey.take(10)\n"
   ]
  },
  {
   "cell_type": "code",
   "execution_count": 11,
   "metadata": {},
   "outputs": [
    {
     "data": {
      "text/plain": [
       "[('33', (3904, 12)),\n",
       " ('26', (4115, 17)),\n",
       " ('55', (3842, 13)),\n",
       " ('40', (4264, 17)),\n",
       " ('68', (2696, 10))]"
      ]
     },
     "execution_count": 11,
     "metadata": {},
     "output_type": "execute_result"
    }
   ],
   "source": [
    "rdd_AgeAsKey = rdd_AgeAsKey.reduceByKey(lambda x, y: (x[0] + y[0], x[1] + y[1]))\n",
    "rdd_AgeAsKey.take(5)"
   ]
  },
  {
   "cell_type": "code",
   "execution_count": 12,
   "metadata": {},
   "outputs": [
    {
     "data": {
      "text/plain": [
       "[('33', (3904, 325.3333333333333)),\n",
       " ('26', (4115, 242.05882352941177)),\n",
       " ('55', (3842, 295.53846153846155)),\n",
       " ('40', (4264, 250.8235294117647)),\n",
       " ('68', (2696, 269.6))]"
      ]
     },
     "execution_count": 12,
     "metadata": {},
     "output_type": "execute_result"
    }
   ],
   "source": [
    "rdd_AgeAsKey.mapValues(lambda x: (x[0], x[0] / x[1])).take(5)"
   ]
  },
  {
   "cell_type": "code",
   "execution_count": 13,
   "metadata": {},
   "outputs": [
    {
     "data": {
      "text/plain": [
       "[('33', (3904, 12)),\n",
       " ('26', (4115, 17)),\n",
       " ('55', (3842, 13)),\n",
       " ('40', (4264, 17)),\n",
       " ('68', (2696, 10)),\n",
       " ('59', (1980, 9)),\n",
       " ('37', (2244, 9)),\n",
       " ('54', (3615, 13)),\n",
       " ('38', (2903, 15)),\n",
       " ('27', (1825, 8))]"
      ]
     },
     "execution_count": 13,
     "metadata": {},
     "output_type": "execute_result"
    }
   ],
   "source": [
    "import numpy as np\n",
    "rdd_AgeAsKey_tuple = rdd_AgeAsKey.map(lambda x: tuple(x))#.aggregateByKey(lambda x: x[0] + x[1])\n",
    "rdd_AgeAsKey_tuple.take(10)#.reduceByKey(lambda x: x[0] + x[1]).take(5)"
   ]
  },
  {
   "cell_type": "code",
   "execution_count": 14,
   "metadata": {},
   "outputs": [
    {
     "data": {
      "text/plain": [
       "[('0', 'Will'),\n",
       " ('1', 'Jean-Luc'),\n",
       " ('2', 'Hugh'),\n",
       " ('3', 'Deanna'),\n",
       " ('4', 'Quark')]"
      ]
     },
     "execution_count": 14,
     "metadata": {},
     "output_type": "execute_result"
    }
   ],
   "source": [
    "rdd_AgeAsKey = rdd.map(lambda x: (x[0], x[1]))\n",
    "rdd_AgeAsKey.take(5)"
   ]
  },
  {
   "cell_type": "code",
   "execution_count": 1,
   "metadata": {},
   "outputs": [
    {
     "data": {
      "text/plain": [
       "1"
      ]
     },
     "execution_count": 1,
     "metadata": {},
     "output_type": "execute_result"
    }
   ],
   "source": [
    "1"
   ]
  },
  {
   "cell_type": "code",
   "execution_count": 2,
   "metadata": {},
   "outputs": [
    {
     "data": {
      "text/plain": [
       "1"
      ]
     },
     "execution_count": 2,
     "metadata": {},
     "output_type": "execute_result"
    }
   ],
   "source": [
    "1"
   ]
  }
 ],
 "metadata": {
  "kernelspec": {
   "display_name": "PySpark",
   "language": "python",
   "name": "spark"
  },
  "language_info": {
   "codemirror_mode": {
    "name": "ipython",
    "version": 3
   },
   "file_extension": ".py",
   "mimetype": "text/x-python",
   "name": "python",
   "nbconvert_exporter": "python",
   "pygments_lexer": "ipython3",
   "version": "3.11.4"
  },
  "orig_nbformat": 4
 },
 "nbformat": 4,
 "nbformat_minor": 2
}
