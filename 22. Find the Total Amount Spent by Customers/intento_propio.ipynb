{
 "cells": [
  {
   "cell_type": "code",
   "execution_count": 1,
   "metadata": {},
   "outputs": [
    {
     "name": "stderr",
     "output_type": "stream",
     "text": [
      "23/10/08 16:03:36 WARN Utils: Your hostname, AHE resolves to a loopback address: 127.0.1.1; using 192.168.121.8 instead (on interface wlo1)\n",
      "23/10/08 16:03:36 WARN Utils: Set SPARK_LOCAL_IP if you need to bind to another address\n",
      "Setting default log level to \"WARN\".\n",
      "To adjust logging level use sc.setLogLevel(newLevel). For SparkR, use setLogLevel(newLevel).\n",
      "23/10/08 16:03:37 WARN NativeCodeLoader: Unable to load native-hadoop library for your platform... using builtin-java classes where applicable\n",
      "23/10/08 16:03:37 WARN Utils: Service 'SparkUI' could not bind on port 4040. Attempting port 4041.\n"
     ]
    }
   ],
   "source": [
    "from pyspark.sql import SparkSession\n",
    "\n",
    "spark = SparkSession.builder.appName('TotalAmountbyCostumers').master('local').getOrCreate()\n",
    "\n",
    "sc = spark.sparkContext"
   ]
  },
  {
   "cell_type": "code",
   "execution_count": 11,
   "metadata": {},
   "outputs": [
    {
     "data": {
      "text/plain": [
       "[(44, 8602, 37.19),\n",
       " (35, 5368, 65.89),\n",
       " (2, 3391, 40.64),\n",
       " (47, 6694, 14.98),\n",
       " (29, 680, 13.08)]"
      ]
     },
     "execution_count": 11,
     "metadata": {},
     "output_type": "execute_result"
    }
   ],
   "source": [
    "def process_line(line):\n",
    "    \"\"\"\n",
    "    Process csv like table and perform basic processing\n",
    "    \"\"\"    \n",
    "    # Separate into columns\n",
    "    line = line.split(',')\n",
    "\n",
    "    # Remove index - There is no index\n",
    "    \n",
    "    # Set proper dtypes and return\n",
    "    return (int(line[0]), int(line[1]), float(line[2]))\n",
    "\n",
    "\n",
    "\n",
    "# Columns: CustomerID, ProductID, Price\n",
    "# Example: 44,         8602,      37.19'\n",
    "lines = sc.textFile('customer-orders.csv')\n",
    "\n",
    "# Basic processing and proper dtypes\n",
    "rdd = lines.map(process_line)\n",
    "\n",
    "rdd.take(5)"
   ]
  },
  {
   "cell_type": "code",
   "execution_count": 16,
   "metadata": {},
   "outputs": [
    {
     "data": {
      "text/plain": [
       "[(44, 92),\n",
       " (35, 110),\n",
       " (2, 118),\n",
       " (47, 86),\n",
       " (29, 110),\n",
       " (91, 91),\n",
       " (70, 108),\n",
       " (85, 105),\n",
       " (53, 94),\n",
       " (14, 100)]"
      ]
     },
     "execution_count": 16,
     "metadata": {},
     "output_type": "execute_result"
    }
   ],
   "source": [
    "# Get purchases by customer\n",
    "purchasesByCustomer = rdd.mapValues(lambda x: 1).reduceByKey(lambda x, y: x + y)\n",
    "purchasesByCustomer.take(10)"
   ]
  },
  {
   "cell_type": "code",
   "execution_count": 68,
   "metadata": {},
   "outputs": [
    {
     "data": {
      "text/plain": [
       "[(44, 4756.8899999999985),\n",
       " (35, 5155.419999999999),\n",
       " (2, 5994.59),\n",
       " (47, 4316.299999999999),\n",
       " (29, 5032.529999999999)]"
      ]
     },
     "execution_count": 68,
     "metadata": {},
     "output_type": "execute_result"
    }
   ],
   "source": [
    "# Get amount wasted by customer\n",
    "byCustID = rdd.map(lambda x: (x[0], x[2]))\n",
    "byCustID.reduceByKey(lambda x, y: x + y).take(5)"
   ]
  },
  {
   "cell_type": "code",
   "execution_count": 91,
   "metadata": {},
   "outputs": [
    {
     "data": {
      "text/plain": [
       "[(42, 56.96840000000003),\n",
       " (77, 55.48371794871793),\n",
       " (68, 55.43869565217389),\n",
       " (71, 55.006055045871584),\n",
       " (80, 54.97511627906977)]"
      ]
     },
     "execution_count": 91,
     "metadata": {},
     "output_type": "execute_result"
    }
   ],
   "source": [
    "# Get mean wasted by purchase for every customer, sorted descending\n",
    "(\n",
    "    rdd\n",
    "    .map(lambda x: (x[0], (x[2], 1)))\n",
    "    .reduceByKey(lambda x, y: (x[0] + y[0], x[1] + y[1]))\n",
    "    .mapValues(lambda x: x[0] / x[1])\n",
    "    .sortBy(lambda x: x[1], ascending = False)\n",
    "    .take(5)\n",
    ")"
   ]
  }
 ],
 "metadata": {
  "kernelspec": {
   "display_name": "PySpark",
   "language": "python",
   "name": "spark"
  },
  "language_info": {
   "codemirror_mode": {
    "name": "ipython",
    "version": 3
   },
   "file_extension": ".py",
   "mimetype": "text/x-python",
   "name": "python",
   "nbconvert_exporter": "python",
   "pygments_lexer": "ipython3",
   "version": "3.11.4"
  }
 },
 "nbformat": 4,
 "nbformat_minor": 2
}
