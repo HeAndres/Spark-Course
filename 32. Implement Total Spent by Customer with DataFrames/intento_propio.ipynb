{
 "cells": [
  {
   "cell_type": "code",
   "execution_count": 1,
   "metadata": {},
   "outputs": [
    {
     "name": "stderr",
     "output_type": "stream",
     "text": [
      "23/10/11 12:15:10 WARN Utils: Your hostname, AHE resolves to a loopback address: 127.0.1.1; using 192.168.1.130 instead (on interface wlo1)\n",
      "23/10/11 12:15:10 WARN Utils: Set SPARK_LOCAL_IP if you need to bind to another address\n",
      "Setting default log level to \"WARN\".\n",
      "To adjust logging level use sc.setLogLevel(newLevel). For SparkR, use setLogLevel(newLevel).\n",
      "23/10/11 12:15:10 WARN NativeCodeLoader: Unable to load native-hadoop library for your platform... using builtin-java classes where applicable\n",
      "23/10/11 12:15:11 WARN Utils: Service 'SparkUI' could not bind on port 4040. Attempting port 4041.\n"
     ]
    }
   ],
   "source": [
    "from pyspark.sql import SparkSession\n",
    "from pyspark.sql.types import StructType, StructField, IntegerType, FloatType\n",
    "\n",
    "spark = SparkSession.builder.master('local').appName('totalSpentByCustomer').getOrCreate()\n",
    "\n",
    "schema = StructType([\n",
    "    StructField('customerID', IntegerType()),\n",
    "    StructField('productID', IntegerType()),\n",
    "    StructField('price', FloatType())\n",
    "])\n",
    "\n",
    "sells = spark.read.schema(schema).csv('customer-orders.csv')"
   ]
  },
  {
   "cell_type": "code",
   "execution_count": 4,
   "metadata": {},
   "outputs": [
    {
     "name": "stdout",
     "output_type": "stream",
     "text": [
      "+----------+-----------------+\n",
      "|customerID|       totalSpent|\n",
      "+----------+-----------------+\n",
      "|        31|4765.050008416176|\n",
      "|        85| 5503.42998456955|\n",
      "|        65|5140.349995829165|\n",
      "|        53|4945.300026416779|\n",
      "+----------+-----------------+\n",
      "only showing top 4 rows\n",
      "\n"
     ]
    }
   ],
   "source": [
    "# Total spent by customer\n",
    "sells.groupby('customerID').sum('price').withColumnRenamed('sum(price)', 'totalSpent').show(4)"
   ]
  },
  {
   "cell_type": "code",
   "execution_count": 6,
   "metadata": {},
   "outputs": [
    {
     "name": "stdout",
     "output_type": "stream",
     "text": [
      "+----------+----------+\n",
      "|customerID|totalSpent|\n",
      "+----------+----------+\n",
      "|        31|   4765.05|\n",
      "|        85|   5503.43|\n",
      "|        65|   5140.35|\n",
      "|        53|    4945.3|\n",
      "+----------+----------+\n",
      "only showing top 4 rows\n",
      "\n"
     ]
    }
   ],
   "source": [
    "# Total spent by customer, rounding to 2 decimals\n",
    "import  pyspark.sql.functions as func\n",
    "sells.groupby('customerID').agg(\n",
    "    func.round(\n",
    "        func.sum('price'),\n",
    "        2\n",
    "    ).alias('totalSpent')\n",
    ").show(4)"
   ]
  },
  {
   "cell_type": "code",
   "execution_count": null,
   "metadata": {},
   "outputs": [],
   "source": []
  }
 ],
 "metadata": {
  "kernelspec": {
   "display_name": "spark",
   "language": "python",
   "name": "python3"
  },
  "language_info": {
   "codemirror_mode": {
    "name": "ipython",
    "version": 3
   },
   "file_extension": ".py",
   "mimetype": "text/x-python",
   "name": "python",
   "nbconvert_exporter": "python",
   "pygments_lexer": "ipython3",
   "version": "3.11.4"
  }
 },
 "nbformat": 4,
 "nbformat_minor": 2
}
